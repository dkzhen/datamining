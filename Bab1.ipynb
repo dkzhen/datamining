{
 "cells": [
  {
   "cell_type": "code",
   "execution_count": 1,
   "id": "24f8ecb2",
   "metadata": {},
   "outputs": [
    {
     "name": "stdout",
     "output_type": "stream",
     "text": [
      "Hello World\n"
     ]
    }
   ],
   "source": [
    "# struktur kode program python\n",
    "print(\"Hello World\")"
   ]
  },
  {
   "cell_type": "code",
   "execution_count": 2,
   "id": "a9060791",
   "metadata": {},
   "outputs": [
    {
     "name": "stdout",
     "output_type": "stream",
     "text": [
      "Hello World\n",
      "Sedang belajar bahasa python di data mining praktikum\n",
      "Semangat!!\n"
     ]
    }
   ],
   "source": [
    "# statement terminator\n",
    "print(\"Hello World\")\n",
    "data=\"data mining praktikum\"\n",
    "print(\"Sedang belajar bahasa python di \"+data)\n",
    "print(\"Semangat!!\")"
   ]
  },
  {
   "cell_type": "code",
   "execution_count": 3,
   "id": "abef5570",
   "metadata": {},
   "outputs": [
    {
     "ename": "NameError",
     "evalue": "name 'Print' is not defined",
     "output_type": "error",
     "traceback": [
      "\u001b[1;31m---------------------------------------------------------------------------\u001b[0m",
      "\u001b[1;31mNameError\u001b[0m                                 Traceback (most recent call last)",
      "Cell \u001b[1;32mIn[3], line 1\u001b[0m\n\u001b[1;32m----> 1\u001b[0m \u001b[43mPrint\u001b[49m(\u001b[38;5;124m\"\u001b[39m\u001b[38;5;124mHello\u001b[39m\u001b[38;5;124m\"\u001b[39m)\n",
      "\u001b[1;31mNameError\u001b[0m: name 'Print' is not defined"
     ]
    }
   ],
   "source": [
    "# perbedaan huruf besar dan kecil\n",
    "Print(\"Hello\")"
   ]
  },
  {
   "cell_type": "code",
   "execution_count": 4,
   "id": "160e2aa2",
   "metadata": {},
   "outputs": [
    {
     "name": "stdout",
     "output_type": "stream",
     "text": [
      "0\n",
      "1\n",
      "2\n"
     ]
    }
   ],
   "source": [
    "# comments\n",
    "# ini adalah baris komentar\n",
    "# kode program dibawah akan menampilkan angka 0 sampai 2\n",
    "for x in range(0, 3):\n",
    "    print (x) # komentar juga bisa ditulis disini"
   ]
  },
  {
   "cell_type": "code",
   "execution_count": 5,
   "id": "7daa27db",
   "metadata": {},
   "outputs": [
    {
     "name": "stdout",
     "output_type": "stream",
     "text": [
      "Hello World\n",
      "hasil dari perhitungan adalah 84\n",
      "isi var1:  13.5 \n",
      "isi var2:  Ini adalah isi var2\n"
     ]
    }
   ],
   "source": [
    "# baris perintah python sederhana\n",
    "# ini adalah komentar pada baris python\n",
    "# mencetak ke layar menggunakan perintah 'print'\n",
    "print(\"Hello World\")\n",
    "\n",
    "# mendefinisikan variabel\n",
    "x = 12\n",
    "y = 6\n",
    "\n",
    "# operasi aritmatika sederhana\n",
    "hasil = x*y+2*x-2*y\n",
    "\n",
    "# mencetak hasil ke keluaran\n",
    "print('hasil dari perhitungan adalah', hasil)\n",
    "\n",
    "# variabel juga dapat didefinisikan sekaligus, dipisahkan oleh tanda koma\n",
    "var1, var2 = 13.5, \"Ini adalah isi var2\"\n",
    "print(\"isi var1: \", var1, \"\\nisi var2: \", var2)"
   ]
  },
  {
   "cell_type": "code",
   "execution_count": 6,
   "id": "ec6644be",
   "metadata": {},
   "outputs": [
    {
     "name": "stdout",
     "output_type": "stream",
     "text": [
      "belajar data mining\n",
      "24\n",
      "4j\n",
      "True\n",
      "('satu', 'dua', 'tiga', 'satu')\n",
      "('satu', 'dua', 'tiga', 'empat')\n",
      "{'satu': 1, 'dua': 2.13, 'tiga': 'a', 'empat': True}\n"
     ]
    }
   ],
   "source": [
    "# tipe data\n",
    "# tipe data string\n",
    "coba = \"belajar data mining\"\n",
    "print(coba)\n",
    "\n",
    "# tipe data integer\n",
    "coba = 24\n",
    "print(coba)\n",
    "\n",
    "# tipe data float\n",
    "coba = 4j\n",
    "print(coba)\n",
    "\n",
    "# tipe data boolean\n",
    "coba = True\n",
    "print(coba)\n",
    "\n",
    "# tipe data tuple\n",
    "coba = (\"satu\", \"dua\", \"tiga\", \"satu\")\n",
    "print(coba)\n",
    "\n",
    "# tipe data set\n",
    "coba = (\"satu\", \"dua\", \"tiga\", \"empat\")\n",
    "print(coba)\n",
    "\n",
    "# tipe data dictionary\n",
    "coba = {\"satu\":1, \"dua\":2.13, \"tiga\":\"a\", \"empat\": True}\n",
    "print(coba)"
   ]
  },
  {
   "cell_type": "code",
   "execution_count": 7,
   "id": "e226b9bf",
   "metadata": {},
   "outputs": [
    {
     "name": "stdout",
     "output_type": "stream",
     "text": [
      "tulis sebuah kalimathalo dani\n",
      "berikut urutan kata\n",
      "dani\n",
      "halo\n"
     ]
    }
   ],
   "source": [
    "# operator\n",
    "kalimat =input(\"tulis sebuah kalimat \")\n",
    "kata = kalimat.split()\n",
    "kata.sort()\n",
    "\n",
    "print(\"berikut urutan kata\")\n",
    "for urut in kata:\n",
    "    print(urut)"
   ]
  },
  {
   "cell_type": "code",
   "execution_count": 8,
   "id": "bc1456fc",
   "metadata": {},
   "outputs": [
    {
     "name": "stdout",
     "output_type": "stream",
     "text": [
      "a\n",
      " \n",
      "belajar\n"
     ]
    }
   ],
   "source": [
    "# array string\n",
    "data = 'aku belajar data mining'\n",
    "print(data[0])\n",
    "print(data[3])\n",
    "print(data[4:11])"
   ]
  },
  {
   "cell_type": "code",
   "execution_count": 9,
   "id": "7e27b32c",
   "metadata": {},
   "outputs": [
    {
     "name": "stdout",
     "output_type": "stream",
     "text": [
      "False\n",
      "True\n",
      "False\n"
     ]
    }
   ],
   "source": [
    "# operator relasi\n",
    "data = 12 < 10\n",
    "print(data)\n",
    "data =12 >10\n",
    "print(data)\n",
    "data = \"A\" == \"a\"\n",
    "print(data)"
   ]
  },
  {
   "cell_type": "code",
   "execution_count": 11,
   "id": "757997fa",
   "metadata": {},
   "outputs": [
    {
     "name": "stdout",
     "output_type": "stream",
     "text": [
      "30\n"
     ]
    }
   ],
   "source": [
    "# assignment\n",
    "bil1=10\n",
    "bil2=20\n",
    "hasil = bil1+bil2\n",
    "print(hasil)"
   ]
  },
  {
   "cell_type": "code",
   "execution_count": 12,
   "id": "2c4d888e",
   "metadata": {},
   "outputs": [
    {
     "name": "stdout",
     "output_type": "stream",
     "text": [
      "10.5\n"
     ]
    }
   ],
   "source": [
    "# pemberian nama variabel\n",
    "alas=3\n",
    "tinggi=7\n",
    "luas=alas*tinggi*0.5\n",
    "print(luas)"
   ]
  },
  {
   "cell_type": "code",
   "execution_count": 13,
   "id": "12150a34",
   "metadata": {},
   "outputs": [
    {
     "ename": "NameError",
     "evalue": "name 'iBu_kota' is not defined",
     "output_type": "error",
     "traceback": [
      "\u001b[1;31m---------------------------------------------------------------------------\u001b[0m",
      "\u001b[1;31mNameError\u001b[0m                                 Traceback (most recent call last)",
      "Cell \u001b[1;32mIn[13], line 4\u001b[0m\n\u001b[0;32m      1\u001b[0m \u001b[38;5;66;03m# sifat case sensitif\u001b[39;00m\n\u001b[0;32m      2\u001b[0m ibu_kota \u001b[38;5;241m=\u001b[39m \u001b[38;5;124m'\u001b[39m\u001b[38;5;124mJakarta\u001b[39m\u001b[38;5;124m'\u001b[39m\n\u001b[1;32m----> 4\u001b[0m \u001b[38;5;28mprint\u001b[39m(\u001b[43miBu_kota\u001b[49m)\n",
      "\u001b[1;31mNameError\u001b[0m: name 'iBu_kota' is not defined"
     ]
    }
   ],
   "source": [
    "# sifat case sensitif\n",
    "ibu_kota = 'Jakarta'\n",
    "\n",
    "print(iBu_kota)"
   ]
  },
  {
   "cell_type": "code",
   "execution_count": 14,
   "id": "b569596d",
   "metadata": {},
   "outputs": [
    {
     "name": "stdout",
     "output_type": "stream",
     "text": [
      "haloo\n",
      "string yang dimasukan haloo\n"
     ]
    }
   ],
   "source": [
    "# python input\n",
    "mystring = input()\n",
    "\n",
    "print('string yang dimasukan', mystring)"
   ]
  },
  {
   "cell_type": "code",
   "execution_count": null,
   "id": "e44136ac",
   "metadata": {},
   "outputs": [],
   "source": []
  }
 ],
 "metadata": {
  "kernelspec": {
   "display_name": "Python 3 (ipykernel)",
   "language": "python",
   "name": "python3"
  },
  "language_info": {
   "codemirror_mode": {
    "name": "ipython",
    "version": 3
   },
   "file_extension": ".py",
   "mimetype": "text/x-python",
   "name": "python",
   "nbconvert_exporter": "python",
   "pygments_lexer": "ipython3",
   "version": "3.10.9"
  }
 },
 "nbformat": 4,
 "nbformat_minor": 5
}
